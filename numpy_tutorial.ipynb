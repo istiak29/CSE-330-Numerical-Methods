{
 "cells": [
  {
   "cell_type": "code",
   "execution_count": 1,
   "id": "initial_id",
   "metadata": {
    "collapsed": true,
    "ExecuteTime": {
     "end_time": "2024-02-10T14:18:07.670492600Z",
     "start_time": "2024-02-10T14:18:07.415803300Z"
    }
   },
   "outputs": [
    {
     "name": "stdout",
     "output_type": "stream",
     "text": [
      "[1 2 3 4]\n"
     ]
    }
   ],
   "source": [
    "import numpy as np\n",
    "\n",
    "a = np.array([1, 2, 3, 4])\n",
    "print(a)"
   ]
  },
  {
   "cell_type": "code",
   "execution_count": 3,
   "outputs": [
    {
     "name": "stdout",
     "output_type": "stream",
     "text": [
      "[1 2 4 5 6 7]\n"
     ]
    }
   ],
   "source": [
    "# soorting\n",
    "a = np.array([7, 2, 4, 1, 6, 5])\n",
    "\n",
    "sorted_a = np.sort(a)\n",
    "print(sorted_a)\n"
   ],
   "metadata": {
    "collapsed": false,
    "ExecuteTime": {
     "end_time": "2024-02-10T14:24:39.233890Z",
     "start_time": "2024-02-10T14:24:39.214591600Z"
    }
   },
   "id": "e6890491b1b14065"
  },
  {
   "cell_type": "code",
   "execution_count": 13,
   "outputs": [
    {
     "name": "stdout",
     "output_type": "stream",
     "text": [
      "[7 8 9]\n"
     ]
    }
   ],
   "source": [
    "# Slicing=> [start: end: step]\n",
    "# [::1] -> from start to last and step is 1\n",
    "# [::-1] -> from start to last but step is -1 so, it will be reversed\n",
    "\n",
    "arr = np.array([[1, 2, 3, 4, 5], [6, 7, 8, 9, 10]])\n",
    "# print(arr)\n",
    "\n",
    "print(arr[1, 1:4])"
   ],
   "metadata": {
    "collapsed": false,
    "ExecuteTime": {
     "end_time": "2024-02-10T14:32:00.786087Z",
     "start_time": "2024-02-10T14:32:00.776143Z"
    }
   },
   "id": "c30f9ba3e319b9bc"
  },
  {
   "cell_type": "code",
   "execution_count": 15,
   "outputs": [
    {
     "name": "stdout",
     "output_type": "stream",
     "text": [
      "[[2 3 4]\n",
      " [7 8 9]]\n"
     ]
    }
   ],
   "source": [
    "# slice both of the nested array\n",
    "arr = np.array([[1, 2, 3, 4, 5], [6, 7, 8, 9, 10]])\n",
    "\n",
    "print(arr[0:2, 1:4])"
   ],
   "metadata": {
    "collapsed": false,
    "ExecuteTime": {
     "end_time": "2024-02-10T14:43:37.629736900Z",
     "start_time": "2024-02-10T14:43:37.594916500Z"
    }
   },
   "id": "addb0053b88f762b"
  },
  {
   "cell_type": "code",
   "execution_count": 18,
   "outputs": [
    {
     "name": "stdout",
     "output_type": "stream",
     "text": [
      "the column of index 1: [2 7]\n"
     ]
    }
   ],
   "source": [
    "# print only the column\n",
    "arr = np.array([[1, 2, 3, 4, 5], [6, 7, 8, 9, 10]])\n",
    "\n",
    "print( 'the column of index 1:', arr[:, 1])"
   ],
   "metadata": {
    "collapsed": false,
    "ExecuteTime": {
     "end_time": "2024-02-10T14:48:01.273377300Z",
     "start_time": "2024-02-10T14:48:01.248176300Z"
    }
   },
   "id": "d6ddc7b14a00e489"
  },
  {
   "cell_type": "code",
   "execution_count": 19,
   "outputs": [
    {
     "name": "stdout",
     "output_type": "stream",
     "text": [
      "the row of index 1: [ 6  7  8  9 10]\n"
     ]
    }
   ],
   "source": [
    "# print only the row\n",
    "arr = np.array([[1, 2, 3, 4, 5], [6, 7, 8, 9, 10]])\n",
    "\n",
    "print( 'the row of index 1:', arr[1, :])"
   ],
   "metadata": {
    "collapsed": false,
    "ExecuteTime": {
     "end_time": "2024-02-10T14:48:29.103390400Z",
     "start_time": "2024-02-10T14:48:29.056648400Z"
    }
   },
   "id": "3be5bd9006ee8f27"
  }
 ],
 "metadata": {
  "kernelspec": {
   "display_name": "Python 3",
   "language": "python",
   "name": "python3"
  },
  "language_info": {
   "codemirror_mode": {
    "name": "ipython",
    "version": 2
   },
   "file_extension": ".py",
   "mimetype": "text/x-python",
   "name": "python",
   "nbconvert_exporter": "python",
   "pygments_lexer": "ipython2",
   "version": "2.7.6"
  }
 },
 "nbformat": 4,
 "nbformat_minor": 5
}
